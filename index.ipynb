{
 "cells": [
  {
   "cell_type": "markdown",
   "metadata": {},
   "source": [
    "# APIs - Cumulative Lab\n",
    "\n",
    "\n",
    "## Introduction \n",
    "\n",
    "We've seen how the Yelp API works and how to create basic visualizations using Folium. It's time to put those skills to work in order to create a working map! Taking things a step further, you'll also independently explore how to perform pagination in order to retrieve a full results set from the Yelp API.\n",
    "\n",
    "## Objectives\n",
    "\n",
    "You will be able to: \n",
    "\n",
    "* Practice using functions to organize your code\n",
    "* Use pagination to retrieve all results from an API query\n",
    "* Practice parsing data returned from an API query\n",
    "* Practice interpreting visualizations of a dataset\n",
    "* Create maps using Folium"
   ]
  },
  {
   "cell_type": "markdown",
   "metadata": {},
   "source": [
    "## Your Task: Query Yelp for All Businesses in a Category and Analyze the Results\n",
    "\n",
    "![restaurant counter with pizza](images/restaurant_counter.jpg)\n",
    "\n",
    "Photo by <a href=\"https://unsplash.com/@jordanmadrid?utm_source=unsplash&utm_medium=referral&utm_content=creditCopyText\">Jordan Madrid</a> on <a href=\"/s/photos/pizza-restaurant?utm_source=unsplash&utm_medium=referral&utm_content=creditCopyText\">Unsplash</a>"
   ]
  },
  {
   "cell_type": "markdown",
   "metadata": {},
   "source": [
    "### Overview\n",
    "\n",
    "You've now worked with some API calls, but we have yet to see how to retrieve a more complete dataset in a programmatic manner. In this lab, you will write a query of businesses on Yelp, then use *pagination* to retrieve all possible results for that query. Then you will create a summary of your findings, including a Folium map of the geographic locations of those businesses.\n",
    "\n",
    "### Technical Details\n",
    "\n",
    "Returning to the Yelp API, the [documentation](https://www.yelp.com/developers/documentation/v3/business_search) also provides us details regarding the **API limits**. These often include details about the number of requests a user is allowed to make within a specified time limit and the maximum number of results to be returned. In this case, we are told that any request has a **maximum of 50 results per request** and defaults to 20. Furthermore, any search will be limited to a **total of 1000 results**. To retrieve all 1000 of these results, we would have to page through the results piece by piece, retrieving 50 at a time. Processes such as these are often referred to as pagination.\n",
    "\n",
    "Also, be mindful of the **API** ***rate*** **limits**. You can only make **5000 requests per day** and are also can make requests too fast. Start prototyping small before running a loop that could be faulty. You can also use `time.sleep(n)` to add delays. For more details see https://www.yelp.com/developers/documentation/v3/rate_limiting.\n",
    "\n",
    "In this lab, you will define a search and then paginate over the results to retrieve all of the results. You'll then parse these responses as a list of dictionaries (for further exploration) and create a map using Folium to visualize the results geographically.\n",
    "\n",
    "### Requirements\n",
    "\n",
    "#### 1. Make the Initial Request\n",
    "\n",
    "Start by filling in your API key to make the initial request to the business search API. Investigate the structure of the response you get back and start figuring out how you will extract the relevant information.\n",
    "\n",
    "#### 2. Add Pagination\n",
    "\n",
    "Using loops and functions, collect the maximum number of results for your query from the API.\n",
    "\n",
    "#### 3. Perform Exploratory Analysis\n",
    "\n",
    "Interpret visualizations related to the price range, average rating, and number of reviews for all query results.\n",
    "\n",
    "#### 4. Create a Folium Map\n",
    "\n",
    "Using latitude and longitude data, plot the query results on an interactive map."
   ]
  },
  {
   "cell_type": "markdown",
   "metadata": {},
   "source": [
    "## 1. Make the Initial Request\n",
    "\n",
    "### Querying\n",
    "\n",
    "Start by making an initial request to the Yelp API. Your search must include at least 2 parameters: **term** and **location**. For example, you might search for pizza restaurants in NYC. The term and location is up to you but make the request below.\n",
    "\n",
    "Use the `requests` library ([documentation here](https://requests.readthedocs.io/en/master/user/quickstart/#make-a-request)).\n",
    "\n",
    "You'll also need an API key from Yelp. If you haven't done this already, go to the Yelp [Manage App page](https://www.yelp.com/developers/v3/manage_app) and create a new app (after making an account if you haven't already)."
   ]
  },
  {
   "cell_type": "code",
   "execution_count": 6,
   "metadata": {},
   "outputs": [
    {
     "data": {
      "text/plain": [
       "<Response [200]>"
      ]
     },
     "execution_count": 6,
     "metadata": {},
     "output_type": "execute_result"
    }
   ],
   "source": [
    "# Replace None with appropriate code\n",
    "\n",
    "# Import the requests library\n",
    "import requests\n",
    "\n",
    "# Get this from the \"Manage App\" page. Make sure you set them\n",
    "# back to None before pushing this to GitHub, since otherwise\n",
    "# your credentials will be compromised\n",
    "api_key = \"UljEIpLQBehTWrTv7yEYoVLPtdOA2V1Tk8Zvca8ZMQLjK6bFQwLlMmPpN4_7LGIWzjDd9fY_Q2POy7a2giDxGO3OPbkF9cy1Veu8S91pqXg9Fl5GEOgQFq6AH1c_Y3Yx\"\n",
    "# These can be whatever you want! But the solution uses \"pizza\"\n",
    "# and \"New York NY\" if you want to compare your work directly\n",
    "term = \"Jamaican\"\n",
    "location = \"Miami FL\"\n",
    "\n",
    "# Set up params for request\n",
    "url = \"https://api.yelp.com/v3/businesses/search\"\n",
    "headers = {\n",
    "    \"Authorization\": \"Bearer {}\".format(api_key)\n",
    "}\n",
    "url_params = {\n",
    "    \"term\": term.replace(\" \", \"+\"),\n",
    "    \"location\": location.replace(\" \", \"+\")\n",
    "}\n",
    "\n",
    "# Make the request using requests.get, passing in\n",
    "# url, headers=headers, and params=url_params\n",
    "response = requests.get(url, headers = headers, params = url_params)\n",
    "\n",
    "# Confirm we got a 200 response\n",
    "response"
   ]
  },
  {
   "cell_type": "code",
   "execution_count": 7,
   "metadata": {},
   "outputs": [
    {
     "data": {
      "text/plain": [
       "dict_keys(['businesses', 'total', 'region'])"
      ]
     },
     "execution_count": 7,
     "metadata": {},
     "output_type": "execute_result"
    }
   ],
   "source": [
    "# Run this cell without changes\n",
    "\n",
    "# Get the response body in JSON format\n",
    "response_json = response.json()\n",
    "# View the keys\n",
    "response_json.keys()"
   ]
  },
  {
   "cell_type": "markdown",
   "metadata": {},
   "source": [
    "### Extracting Data\n",
    "\n",
    "Now, retrieve the value associated with the `'businesses'` key, and inspect its contents."
   ]
  },
  {
   "cell_type": "code",
   "execution_count": 8,
   "metadata": {},
   "outputs": [
    {
     "data": {
      "text/plain": [
       "[{'id': 'sQq7fKLVnTR6I79IG_cehA',\n",
       "  'alias': 'jamaica-kitchen-miami',\n",
       "  'name': 'Jamaica Kitchen',\n",
       "  'image_url': 'https://s3-media2.fl.yelpcdn.com/bphoto/eATFHp12f_n-S-oG3PnXYg/o.jpg',\n",
       "  'is_closed': False,\n",
       "  'url': 'https://www.yelp.com/biz/jamaica-kitchen-miami?adjust_creative=Orr3DfUgpnSa1zeP_ZSfdA&utm_campaign=yelp_api_v3&utm_medium=api_v3_business_search&utm_source=Orr3DfUgpnSa1zeP_ZSfdA',\n",
       "  'review_count': 282,\n",
       "  'categories': [{'alias': 'caribbean', 'title': 'Caribbean'}],\n",
       "  'rating': 4.5,\n",
       "  'coordinates': {'latitude': 25.700904, 'longitude': -80.335313},\n",
       "  'transactions': ['delivery', 'pickup'],\n",
       "  'price': '$$',\n",
       "  'location': {'address1': '8736 SW 72nd St',\n",
       "   'address2': '',\n",
       "   'address3': '',\n",
       "   'city': 'Miami',\n",
       "   'zip_code': '33173',\n",
       "   'country': 'US',\n",
       "   'state': 'FL',\n",
       "   'display_address': ['8736 SW 72nd St', 'Miami, FL 33173']},\n",
       "  'phone': '+13055962585',\n",
       "  'display_phone': '(305) 596-2585',\n",
       "  'distance': 7457.951369209305},\n",
       " {'id': 'SgyBbAIF07AvbruNTsrYlw',\n",
       "  'alias': 'jamrock-cuisine-miami-3',\n",
       "  'name': 'Jamrock Cuisine',\n",
       "  'image_url': 'https://s3-media3.fl.yelpcdn.com/bphoto/kGR6vgy93OoNUCborsDuMg/o.jpg',\n",
       "  'is_closed': False,\n",
       "  'url': 'https://www.yelp.com/biz/jamrock-cuisine-miami-3?adjust_creative=Orr3DfUgpnSa1zeP_ZSfdA&utm_campaign=yelp_api_v3&utm_medium=api_v3_business_search&utm_source=Orr3DfUgpnSa1zeP_ZSfdA',\n",
       "  'review_count': 195,\n",
       "  'categories': [{'alias': 'caribbean', 'title': 'Caribbean'},\n",
       "   {'alias': 'chinese', 'title': 'Chinese'},\n",
       "   {'alias': 'asianfusion', 'title': 'Asian Fusion'}],\n",
       "  'rating': 4.5,\n",
       "  'coordinates': {'latitude': 25.6845522989498,\n",
       "   'longitude': -80.3985356472214},\n",
       "  'transactions': ['pickup'],\n",
       "  'price': '$$',\n",
       "  'location': {'address1': '12560 SW 88th St',\n",
       "   'address2': '',\n",
       "   'address3': '',\n",
       "   'city': 'Miami',\n",
       "   'zip_code': '33186',\n",
       "   'country': 'US',\n",
       "   'state': 'FL',\n",
       "   'display_address': ['12560 SW 88th St', 'Miami, FL 33186']},\n",
       "  'phone': '+13055987625',\n",
       "  'display_phone': '(305) 598-7625',\n",
       "  'distance': 13414.211361160324}]"
      ]
     },
     "execution_count": 8,
     "metadata": {},
     "output_type": "execute_result"
    }
   ],
   "source": [
    "# Replace None with appropriate code\n",
    "\n",
    "# Retrieve the value from response_json\n",
    "businesses = response_json[\"businesses\"]\n",
    "\n",
    "# View the first 2 records\n",
    "businesses[:2]"
   ]
  },
  {
   "cell_type": "markdown",
   "metadata": {},
   "source": [
    "### Preparing Data\n",
    "\n",
    "Write a function `prepare_data` that takes in a list of dictionaries like `businesses` and returns a copy that has been prepared for analysis:\n",
    "\n",
    "1. The `coordinates` key-value pair has been converted into two separate key-value pairs, `latitude` and `longitude`\n",
    "2. All other key-value pairs except for `name`, `review_count`, `rating`, and `price` have been dropped\n",
    "3. All dictionaries missing one of the relevant keys or containing null values have been dropped\n",
    "\n",
    "In other words, the final keys for each dictionary should be `name`, `review_count`, `rating`, `price`, `latitude`, and `longitude`.\n",
    "\n",
    "Complete the function in the cell below:"
   ]
  },
  {
   "cell_type": "code",
   "execution_count": 9,
   "metadata": {},
   "outputs": [
    {
     "data": {
      "text/plain": [
       "[{'name': 'Jamaica Kitchen',\n",
       "  'review_count': 282,\n",
       "  'rating': 4.5,\n",
       "  'price': '$$',\n",
       "  'latitude': 25.700904,\n",
       "  'longitude': -80.335313},\n",
       " {'name': 'Jamrock Cuisine',\n",
       "  'review_count': 195,\n",
       "  'rating': 4.5,\n",
       "  'price': '$$',\n",
       "  'latitude': 25.6845522989498,\n",
       "  'longitude': -80.3985356472214},\n",
       " {'name': 'Dukunoo Jamaican Kitchen',\n",
       "  'review_count': 458,\n",
       "  'rating': 3.5,\n",
       "  'price': '$$$',\n",
       "  'latitude': 25.799922560488103,\n",
       "  'longitude': -80.20060394571581},\n",
       " {'name': 'West Grove Food Zone',\n",
       "  'review_count': 22,\n",
       "  'rating': 4.5,\n",
       "  'price': '$',\n",
       "  'latitude': 25.728382,\n",
       "  'longitude': -80.253921},\n",
       " {'name': 'Yardie Spice',\n",
       "  'review_count': 627,\n",
       "  'rating': 5.0,\n",
       "  'price': '$$',\n",
       "  'latitude': 25.468072,\n",
       "  'longitude': -80.477266}]"
      ]
     },
     "execution_count": 9,
     "metadata": {},
     "output_type": "execute_result"
    }
   ],
   "source": [
    "# Replace None with appropriate code\n",
    "\n",
    "def prepare_data(data_list):\n",
    "    \"\"\"\n",
    "    This function takes in a list of dictionaries and prepares it\n",
    "    for analysis\n",
    "    \"\"\"\n",
    "    \n",
    "    # Make a new list to hold results\n",
    "    results = []\n",
    "    \n",
    "    for business_data in data_list:\n",
    "    \n",
    "        # Make a new dictionary to hold prepared data for this business\n",
    "        prepared_data = {}\n",
    "        \n",
    "        # Extract name, review_count, rating, and price key-value pairs\n",
    "        # from business_data and add to prepared_data\n",
    "        # If a key is not present in business_data, add it to prepared_data\n",
    "        # with an associated value of None\n",
    "        for key in (\"name\", \"review_count\", \"rating\", \"price\"):\n",
    "            prepared_data[key] = business_data.get(key, None)\n",
    "    \n",
    "        # Parse and add latitude and longitude columns\n",
    "        coords = business_data[\"coordinates\"]\n",
    "        prepared_data[\"latitude\"] = coords[\"latitude\"]\n",
    "        prepared_data[\"longitude\"] = coords[\"longitude\"]\n",
    "        \n",
    "        # Add to list if all values are present\n",
    "        if all(prepared_data.values()):\n",
    "            results.append(prepared_data)\n",
    "    \n",
    "    return results\n",
    "    \n",
    "# Test out function\n",
    "prepared_businesses = prepare_data(businesses)\n",
    "prepared_businesses[:5]"
   ]
  },
  {
   "cell_type": "markdown",
   "metadata": {},
   "source": [
    "Check that your function created the correct keys:"
   ]
  },
  {
   "cell_type": "code",
   "execution_count": 10,
   "metadata": {},
   "outputs": [],
   "source": [
    "# Run this cell without changes\n",
    "\n",
    "assert sorted(list(prepared_businesses[0].keys())) == ['latitude', 'longitude', 'name', 'price', 'rating', 'review_count']"
   ]
  },
  {
   "cell_type": "markdown",
   "metadata": {},
   "source": [
    "The following code will differ depending on your query, but we expect there to be 20 businesses in the original list, and potentially fewer in the prepared list (if any of them were missing data):"
   ]
  },
  {
   "cell_type": "code",
   "execution_count": 11,
   "metadata": {},
   "outputs": [
    {
     "name": "stdout",
     "output_type": "stream",
     "text": [
      "Original: 20\n",
      "Prepared: 17\n"
     ]
    }
   ],
   "source": [
    "# Run this cell without changes\n",
    "print(\"Original:\", len(businesses))\n",
    "print(\"Prepared:\", len(prepared_businesses))"
   ]
  },
  {
   "cell_type": "markdown",
   "metadata": {},
   "source": [
    "Great! We will reuse this function once we have retrieved the full dataset."
   ]
  },
  {
   "cell_type": "markdown",
   "metadata": {},
   "source": [
    "## 2. Add Pagination\n",
    "\n",
    "Now that you are able to extract information from one page of the response, let's figure out how to request as many pages as possible.\n",
    "\n",
    "### Determining the Total\n",
    "\n",
    "Depending on the number of total results for your query, you will either retrieve all of the results, or just the first 1000 (if there are more than 1000 total).\n",
    "\n",
    "We can find the total number of results using the `\"total\"` key:"
   ]
  },
  {
   "cell_type": "code",
   "execution_count": 12,
   "metadata": {},
   "outputs": [
    {
     "data": {
      "text/plain": [
       "213"
      ]
     },
     "execution_count": 12,
     "metadata": {},
     "output_type": "execute_result"
    }
   ],
   "source": [
    "# Run this cell without changes\n",
    "response_json[\"total\"]"
   ]
  },
  {
   "cell_type": "markdown",
   "metadata": {},
   "source": [
    "(This is specific to the implementation of the Yelp API. Some APIs will just tell you that there are more pages, or will tell you the number of pages total, rather than the total number of results. If you're not sure, always check the documentation.)\n",
    "\n",
    "In the cell below, assign the variable `total` to either the value shown above (if it is less than 1000), or 1000."
   ]
  },
  {
   "cell_type": "code",
   "execution_count": 13,
   "metadata": {},
   "outputs": [],
   "source": [
    "# Replace None with appropriate code\n",
    "total = 1000"
   ]
  },
  {
   "cell_type": "markdown",
   "metadata": {},
   "source": [
    "### Calculating the Offsets\n",
    "\n",
    "The documentation states in the parameters section:\n",
    "\n",
    "> **Name**: `limit`, **Type:** int, **Description:** Optional. Number of business results to return. By default, it will return 20. Maximum is 50.\n",
    "\n",
    "> **Name**: `offset`, **Type:** int, **Description:** Optional. Offset the list of returned business results by this amount.\n",
    "\n",
    "So, to get the most results with the fewest API calls we want to set a limit of 50 every time. If, say, we wanted to get 210 total results, that would mean:\n",
    "\n",
    "1. Offset of `0` (first 50 records)\n",
    "2. Offset of `50` (second 50 records)\n",
    "3. Offset of `100` (third 50 records)\n",
    "4. Offset of `150` (fourth 50 records)\n",
    "5. Offset of `200` (final 10 records)\n",
    "\n",
    "In the cell below, create a function `get_offsets` that takes in a total and returns a list of offsets for that total. You can assume that there is a limit of 50 every time.\n",
    "\n",
    "*Hint: you can use `range` ([documentation here](https://docs.python.org/3.3/library/stdtypes.html?highlight=range#range)) to do this in one line of code. Just make the returned result is a list.*"
   ]
  },
  {
   "cell_type": "code",
   "execution_count": 14,
   "metadata": {},
   "outputs": [],
   "source": [
    "# Replace None with appropriate code\n",
    "def get_offsets(total):\n",
    "    \"\"\"\n",
    "    Get a list of offsets needed to get all pages\n",
    "    of data up until the total\n",
    "    \"\"\"\n",
    "    return list(range(0, total,50))"
   ]
  },
  {
   "cell_type": "markdown",
   "metadata": {},
   "source": [
    "Check that your function works below:"
   ]
  },
  {
   "cell_type": "code",
   "execution_count": 15,
   "metadata": {},
   "outputs": [],
   "source": [
    "# Run this cell without changes\n",
    "\n",
    "assert get_offsets(200) == [0, 50, 100, 150]\n",
    "assert get_offsets(210) == [0, 50, 100, 150, 200]"
   ]
  },
  {
   "cell_type": "markdown",
   "metadata": {},
   "source": [
    "### Putting It All Together\n",
    "\n",
    "Recall that the following variable has already been declared for you:"
   ]
  },
  {
   "cell_type": "code",
   "execution_count": 16,
   "metadata": {},
   "outputs": [
    {
     "data": {
      "text/plain": [
       "{'term': 'Jamaican', 'location': 'Miami+FL'}"
      ]
     },
     "execution_count": 16,
     "metadata": {},
     "output_type": "execute_result"
    }
   ],
   "source": [
    "# Run this cell without changes\n",
    "url_params"
   ]
  },
  {
   "cell_type": "markdown",
   "metadata": {},
   "source": [
    "We'll go ahead and also specify that the limit should be 50 every time:"
   ]
  },
  {
   "cell_type": "code",
   "execution_count": 17,
   "metadata": {},
   "outputs": [],
   "source": [
    "# Run this cell without changes\n",
    "url_params[\"limit\"] = 50"
   ]
  },
  {
   "cell_type": "markdown",
   "metadata": {},
   "source": [
    "In order to modify the offset, you'll need to add it to `url_params` with the key `\"offset\"` and whatever value is needed.\n",
    "\n",
    "In the cell below, write code that:\n",
    "\n",
    "* Creates an empty list for the full prepared dataset\n",
    "* Loops over all of the offsets from `get_offsets` and makes an API call each time with the specified offset\n",
    "* Calls `prepare_data` to get a cleaned version of the result of each API call\n",
    "* Extends the full prepared dataset list with each query's prepared dataset"
   ]
  },
  {
   "cell_type": "code",
   "execution_count": 18,
   "metadata": {},
   "outputs": [
    {
     "data": {
      "text/plain": [
       "120"
      ]
     },
     "execution_count": 18,
     "metadata": {},
     "output_type": "execute_result"
    }
   ],
   "source": [
    "# Replace None with appropriate code\n",
    "\n",
    "# Create an empty list for the full prepared dataset\n",
    "full_dataset = []\n",
    "\n",
    "for offset in get_offsets(total):\n",
    "    # Add or update the \"offset\" key-value pair in url_params\n",
    "    url_params[\"offset\"] = offset\n",
    "    \n",
    "    # Make the query and get the response\n",
    "    response = requests.get(url, headers=headers, params=url_params)\n",
    "    \n",
    "    # Get the response body in JSON format\n",
    "    response_json = response.json()\n",
    "    \n",
    "    # Get the list of businesses from the response_json\n",
    "    businesses = response_json[\"businesses\"]\n",
    "    \n",
    "    # Call the prepare_data function to get a list of processed data\n",
    "    prepared_businesses = prepare_data(businesses)\n",
    "    \n",
    "    # Extend full_dataset with this list (don't append, or you'll get\n",
    "    # a list of lists instead of a flat list)\n",
    "    full_dataset .extend(prepared_businesses)\n",
    "\n",
    "# Check the length of the full dataset. It will be up to `total`,\n",
    "# potentially less if there were missing values\n",
    "len(full_dataset)"
   ]
  },
  {
   "cell_type": "markdown",
   "metadata": {},
   "source": [
    "This code may take up to a few minutes to run.\n",
    "\n",
    "If you get an error trying to get the response body in JSON format, try adding `time.sleep(1)` right after the `requests.get` line, so your code will sleep for 1 second between each API call."
   ]
  },
  {
   "cell_type": "markdown",
   "metadata": {},
   "source": [
    "## 3. Perform Exploratory Analysis\n",
    "\n",
    "Take the businesses from the previous question and do an initial exploratory analysis. We have provided some plots for you to interpret:"
   ]
  },
  {
   "cell_type": "code",
   "execution_count": 19,
   "metadata": {},
   "outputs": [
    {
     "data": {
      "image/png": "[encoded data removed]",
      "text/plain": [
       "<Figure size 1152x360 with 3 Axes>"
      ]
     },
     "metadata": {
      "needs_background": "light"
     },
     "output_type": "display_data"
    }
   ],
   "source": [
    "# Run this cell without changes\n",
    "from collections import Counter\n",
    "import matplotlib.pyplot as plt\n",
    "%matplotlib inline\n",
    "\n",
    "fig, (ax1, ax2, ax3) = plt.subplots(ncols=3, figsize=(16, 5))\n",
    "\n",
    "# Plot distribution of number of reviews\n",
    "all_review_counts = [x[\"review_count\"] for x in full_dataset]\n",
    "ax1.hist(all_review_counts)\n",
    "ax1.set_title(\"Review Count Distribution\")\n",
    "ax1.set_xlabel(\"Number of Reviews\")\n",
    "ax1.set_ylabel(\"Number of Businesses\")\n",
    "\n",
    "# Plot rating distribution\n",
    "all_ratings = [x[\"rating\"] for x in full_dataset]\n",
    "rating_counter = Counter(all_ratings)\n",
    "rating_keys = sorted(rating_counter.keys())\n",
    "ax2.bar(rating_keys, [rating_counter[key] for key in rating_keys])\n",
    "ax2.set_title(\"Rating Distribution\")\n",
    "ax2.set_xlabel(\"Rating\")\n",
    "ax2.set_ylabel(\"Number of Businesses\")\n",
    "\n",
    "# Plot price distribution\n",
    "all_prices = [x[\"price\"].replace(\"$\", r\"\\$\") for x in full_dataset]\n",
    "price_counter = Counter(all_prices)\n",
    "price_keys = sorted(price_counter.keys())\n",
    "ax3.bar(price_keys, [price_counter[key] for key in price_keys])\n",
    "ax3.set_title(\"Price Distribution\")\n",
    "ax3.set_xlabel(\"Price Category\")\n",
    "ax3.set_ylabel(\"Number of Businesses\");"
   ]
  },
  {
   "cell_type": "markdown",
   "metadata": {},
   "source": [
    "Describe the distributions displayed above and interpret them in the context of your query. (Your answer may differ from the solution branch depending on your query.)"
   ]
  },
  {
   "cell_type": "code",
   "execution_count": null,
   "metadata": {},
   "outputs": [],
   "source": [
    "# Replace None with appropriate text\n",
    "\"\"\"\n",
    "The review count distribution is skewed right, with the majority of the businesses having fewer than 1000 reviews, \n",
    "but with a small number of businesses having more than 5000 reviews. \n",
    "\n",
    "The peak of the rating distribution is 4, which suggests that a rating of 4 out 5 is typical for Jamiacan restaurants\n",
    "in Metro Miami Florida. There are a small number (less than 10) of restaurants that a rating of either lower than 2.  \n",
    "\n",
    "The price distribution is also skewed and suggests that the majority of Jamiacan restaurants are in the low to mid level when it comes\n",
    "to cost.  This makes senses since we searched for \"Jamaican food in Miami Florida which has typically offers lunch and\n",
    "take out meals.\"\n",
    "\"\"\""
   ]
  },
  {
   "cell_type": "markdown",
   "metadata": {},
   "source": [
    "In the cell below, we also plot the rating distributions by price. In this setup, a price of one dollar sign is \"lower price\" and everything else is \"higher price\"."
   ]
  },
  {
   "cell_type": "code",
   "execution_count": 20,
   "metadata": {},
   "outputs": [
    {
     "data": {
      "image/png": "[encoded data removed]",
      "text/plain": [
       "<Figure size 432x288 with 1 Axes>"
      ]
     },
     "metadata": {
      "needs_background": "light"
     },
     "output_type": "display_data"
    }
   ],
   "source": [
    "# Run this cell without changes\n",
    "\n",
    "higher_price = []\n",
    "lower_price = []\n",
    "for row in full_dataset:\n",
    "    if row[\"price\"] == \"$\":\n",
    "        lower_price.append(row[\"rating\"])\n",
    "    else:\n",
    "        higher_price.append(row[\"rating\"])\n",
    "        \n",
    "fig, ax = plt.subplots()\n",
    "\n",
    "ax.hist([higher_price, lower_price], label=[\"higher price\", \"lower price\"], density=True)\n",
    "\n",
    "ax.legend();"
   ]
  },
  {
   "cell_type": "markdown",
   "metadata": {},
   "source": [
    "Is a higher price associated with a higher rating? (No need for any additional math/statistics, just interpret what you see in the plot.)"
   ]
  },
  {
   "cell_type": "code",
   "execution_count": 21,
   "metadata": {},
   "outputs": [
    {
     "data": {
      "text/plain": [
       "'\\nNo, higher price does not seem to be associated with a higher rating.\\nThe peaks of the blue bars which represent higher price are not \\nhigher for ratings of 4 or higher. There are some peaks \\nlike 4.5 where lower prices have high ratings than higher priced counterparts.\\n'"
      ]
     },
     "execution_count": 21,
     "metadata": {},
     "output_type": "execute_result"
    }
   ],
   "source": [
    "# Replace None with appropriate text\n",
    "\"\"\"\n",
    "No, higher price does not seem to be associated with a higher rating.\n",
    "The peaks of the blue bars which represent higher price are not \n",
    "higher for ratings of 4 or higher. There are some peaks \n",
    "like 4.5 where lower prices have high ratings than higher priced counterparts.\n",
    "\"\"\""
   ]
  },
  {
   "cell_type": "markdown",
   "metadata": {},
   "source": [
    "Finally, let's look at ratings vs. review counts:"
   ]
  },
  {
   "cell_type": "code",
   "execution_count": 22,
   "metadata": {},
   "outputs": [
    {
     "data": {
      "image/png": "[encoded data removed]",
      "text/plain": [
       "<Figure size 1152x360 with 1 Axes>"
      ]
     },
     "metadata": {
      "needs_background": "light"
     },
     "output_type": "display_data"
    }
   ],
   "source": [
    "# Run this cell without changes\n",
    "fig, ax = plt.subplots(figsize=(16,5))\n",
    "\n",
    "ax.scatter(all_review_counts, all_ratings, alpha=0.2)\n",
    "ax.set_xlabel(\"Number of Reviews\")\n",
    "ax.set_ylabel(\"Rating\")\n",
    "# \"zoom in\" to a subset of review counts\n",
    "ax.set_xlim(left=0, right=1000);"
   ]
  },
  {
   "cell_type": "markdown",
   "metadata": {},
   "source": [
    "Is a higher number of reviews associated with a higher rating?"
   ]
  },
  {
   "cell_type": "code",
   "execution_count": 23,
   "metadata": {},
   "outputs": [
    {
     "data": {
      "text/plain": [
       "'\\nMore research may be needed, but it seems that businesses with at least\\n600 reivews have an average rating of 4 or higher. There do seem to be a large\\nnumber of restaurants with less than 200 reviews that have ratings of 4 or higher.\\nSo these trends may need more examining.\\n'"
      ]
     },
     "execution_count": 23,
     "metadata": {},
     "output_type": "execute_result"
    }
   ],
   "source": [
    "# Replace None with appropriate text\n",
    "\"\"\"\n",
    "More research may be needed, but it seems that businesses with at least\n",
    "600 reivews have an average rating of 4 or higher. There do seem to be a large\n",
    "number of restaurants with less than 200 reviews that have ratings of 4 or higher.\n",
    "So these trends may need more examining.\n",
    "\"\"\""
   ]
  },
  {
   "cell_type": "markdown",
   "metadata": {},
   "source": [
    "## 4. Create a Folium Map\n",
    "\n",
    "Make a map using Folium of the businesses you retrieved. Be sure to also add popups to the markers giving some basic information such as name, rating and price.\n",
    "\n",
    "You can center the map around the latitude and longitude of the first item in `full_dataset`."
   ]
  },
  {
   "cell_type": "code",
   "execution_count": 25,
   "metadata": {},
   "outputs": [
    {
     "data": {
      "text/html": [
       "<div style=\"width:100%;\"><div style=\"position:relative;width:100%;height:0;padding-bottom:60%;\"><span style=\"color:#565656\">Make this Notebook Trusted to load map: File -> Trust Notebook</span><iframe src=\"about:blank\" style=\"position:absolute;width:100%;height:100%;left:0;top:0;border:none !important;\" data-html=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 onload=\"this.contentDocument.open();this.contentDocument.write(atob(this.getAttribute('data-html')));this.contentDocument.close();\" allowfullscreen webkitallowfullscreen mozallowfullscreen></iframe></div></div>"
      ],
      "text/plain": [
       "<folium.folium.Map at 0x25a0121d0a0>"
      ]
     },
     "execution_count": 25,
     "metadata": {},
     "output_type": "execute_result"
    }
   ],
   "source": [
    "# Replace None with appropriate code\n",
    "\n",
    "# Import the library\n",
    "import folium\n",
    "\n",
    "# Set up center latitude and longitude\n",
    "center_lat = full_dataset[0][\"latitude\"]\n",
    "center_long = full_dataset[0][\"longitude\"]\n",
    "\n",
    "# Initialize map with center lat and long\n",
    "yelp_map = folium.Map([center_lat, center_long], zoom_start = 12)\n",
    "\n",
    "# Adjust this limit to see more or fewer businesses\n",
    "limit=100\n",
    "\n",
    "for business in full_dataset[:limit]:\n",
    "    # Extract information about business\n",
    "    lat = business[\"latitude\"]\n",
    "    long = business[\"longitude\"]\n",
    "    name = business[\"name\"]\n",
    "    rating = business[\"rating\"]\n",
    "    price = business[\"price\"]\n",
    "    details = \"{}\\nPrice: {} Rating:{}\".format(name,price,rating)\n",
    "    \n",
    "    # Create popup with relevant details\n",
    "    popup = folium.Popup(details)\n",
    "    \n",
    "    # Create marker with relevant lat/long and popup\n",
    "    marker = folium.Marker([lat,long], popup = popup)\n",
    "    \n",
    "    marker.add_to(yelp_map)\n",
    "    \n",
    "yelp_map"
   ]
  },
  {
   "cell_type": "markdown",
   "metadata": {},
   "source": [
    "## Summary\n",
    "\n",
    "Nice work! In this lab, you've made multiple API calls to Yelp in order to paginate through a results set, performing some basic exploratory analysis and then creating a nice interactive map to display the results using Folium! Well done!"
   ]
  }
 ],
 "metadata": {
  "kernelspec": {
   "display_name": "Python 3",
   "language": "python",
   "name": "python3"
  },
  "language_info": {
   "codemirror_mode": {
    "name": "ipython",
    "version": 3
   },
   "file_extension": ".py",
   "mimetype": "text/x-python",
   "name": "python",
   "nbconvert_exporter": "python",
   "pygments_lexer": "ipython3",
   "version": "3.8.5"
  },
  "toc": {
   "base_numbering": 1,
   "nav_menu": {},
   "number_sections": true,
   "sideBar": true,
   "skip_h1_title": false,
   "title_cell": "Table of Contents",
   "title_sidebar": "Contents",
   "toc_cell": false,
   "toc_position": {},
   "toc_section_display": true,
   "toc_window_display": false
  },
  "varInspector": {
   "cols": {
    "lenName": 16,
    "lenType": 16,
    "lenVar": 40
   },
   "kernels_config": {
    "python": {
     "delete_cmd_postfix": "",
     "delete_cmd_prefix": "del ",
     "library": "var_list.py",
     "varRefreshCmd": "print(var_dic_list())"
    },
    "r": {
     "delete_cmd_postfix": ") ",
     "delete_cmd_prefix": "rm(",
     "library": "var_list.r",
     "varRefreshCmd": "cat(var_dic_list()) "
    }
   },
   "types_to_exclude": [
    "module",
    "function",
    "builtin_function_or_method",
    "instance",
    "_Feature"
   ],
   "window_display": false
  }
 },
 "nbformat": 4,
 "nbformat_minor": 2
}
